{
 "cells": [
  {
   "cell_type": "markdown",
   "id": "bbf300cc",
   "metadata": {},
   "source": [
    "## data"
   ]
  },
  {
   "cell_type": "code",
   "execution_count": 19,
   "id": "5557deb9",
   "metadata": {},
   "outputs": [
    {
     "name": "stdout",
     "output_type": "stream",
     "text": [
      "Dict_f_cost: {1: 1175.0, 2: 587.5, 3: 822.5, 4: 587.5, 5: 1175.0, 6: 1057.5, 7: 705.0, 8: 587.5}\n",
      "\n",
      "Dict_mf_cost: {(1, 1): 2.11, (2, 1): 3.41, (3, 1): 3.71, (1, 2): 1.92, (2, 2): 4.01, (3, 2): 3.84, (1, 3): 1.04, (2, 3): 4.43, (3, 3): 4.51, (1, 4): 0.78, (2, 4): 2.7, (3, 4): 2.72, (1, 5): 1.54, (2, 5): 1.9, (3, 5): 1.93, (1, 6): 3.94, (2, 6): 1.14, (3, 6): 0.72, (1, 7): 3.64, (2, 7): 0.36, (3, 7): 0.25, (1, 8): 3.48, (2, 8): 0.5, (3, 8): 0.0}\n",
      "\n",
      "Dict_cf_cost: {(1, 1): 8.62, (1, 2): 1.75, (1, 3): 6.09, (1, 4): 4.02, (1, 5): 4.47, (1, 6): 6.71, (1, 7): 7.17, (1, 8): 6.62, (2, 1): 4.74, (2, 2): 8.36, (2, 3): 7.88, (2, 4): 5.01, (2, 5): 3.69, (2, 6): 4.68, (2, 7): 3.13, (2, 8): 3.35, (3, 1): 5.09, (3, 2): 7.16, (3, 3): 7.3, (3, 4): 4.05, (3, 5): 2.55, (3, 6): 3.74, (3, 7): 2.42, (3, 8): 2.42, (4, 1): 2.56, (4, 2): 6.4, (4, 3): 2.44, (4, 4): 3.86, (4, 5): 4.88, (4, 6): 9.6, (4, 7): 8.63, (4, 8): 8.46, (5, 1): 2.41, (5, 2): 7.91, (5, 3): 3.7, (5, 4): 5.28, (5, 5): 6.12, (5, 6): 10.65, (5, 7): 9.54, (5, 8): 9.44, (6, 1): 4.25, (6, 2): 8.49, (6, 3): 7.67, (6, 4): 5.02, (6, 5): 3.83, (6, 6): 5.26, (6, 7): 3.71, (6, 8): 3.92, (7, 1): 3.54, (7, 2): 5.22, (7, 3): 1.36, (7, 4): 3.11, (7, 5): 4.43, (7, 6): 9.26, (7, 7): 8.48, (7, 8): 8.23, (8, 1): 4.86, (8, 2): 6.28, (8, 3): 6.53, (8, 4): 3.18, (8, 5): 1.66, (8, 6): 3.96, (8, 7): 2.92, (8, 8): 2.75, (9, 1): 6.52, (9, 2): 9.82, (9, 3): 9.75, (9, 4): 6.71, (9, 5): 5.23, (9, 6): 4.31, (9, 7): 2.75, (9, 8): 3.23, (10, 1): 8.47, (10, 2): 3.28, (10, 3): 6.94, (10, 4): 4.02, (10, 5): 3.81, (10, 6): 5.03, (10, 7): 5.64, (10, 8): 5.08, (11, 1): 5.81, (11, 2): 7.58, (11, 3): 8.02, (11, 4): 4.67, (11, 5): 3.1, (11, 6): 3.13, (11, 7): 1.7, (11, 8): 1.79, (12, 1): 3.3, (12, 2): 6.4, (12, 3): 5.53, (12, 4): 2.83, (12, 5): 1.96, (12, 6): 5.52, (12, 7): 4.36, (12, 8): 4.26, (13, 1): 6.22, (13, 2): 10.99, (13, 3): 10.19, (13, 4): 7.6, (13, 5): 6.31, (13, 6): 6.11, (13, 7): 4.54, (13, 8): 5.0, (14, 1): 6.23, (14, 2): 11.74, (14, 3): 10.55, (14, 4): 8.25, (14, 5): 7.08, (14, 6): 7.21, (14, 7): 5.63, (14, 8): 6.08, (15, 1): 7.21, (15, 2): 6.33, (15, 3): 8.07, (15, 4): 4.43, (15, 5): 2.95, (15, 6): 1.9, (15, 7): 1.89, (15, 8): 1.34, (16, 1): 7.0, (16, 2): 7.37, (16, 3): 8.59, (16, 4): 5.02, (16, 5): 3.44, (16, 6): 1.8, (16, 7): 0.81, (16, 8): 0.5, (17, 1): 5.39, (17, 2): 5.8, (17, 3): 6.53, (17, 4): 3.0, (17, 5): 1.4, (17, 6): 3.61, (17, 7): 2.83, (17, 8): 2.53, (18, 1): 7.03, (18, 2): 0.95, (18, 3): 3.94, (18, 4): 2.72, (18, 5): 3.88, (18, 6): 7.6, (18, 7): 7.62, (18, 8): 7.14, (19, 1): 5.69, (19, 2): 10.21, (19, 3): 9.48, (19, 4): 6.83, (19, 5): 5.53, (19, 6): 5.6, (19, 7): 4.0, (19, 8): 4.42, (20, 1): 5.88, (20, 2): 6.22, (20, 3): 7.16, (20, 4): 3.61, (20, 5): 2.01, (20, 6): 3.0, (20, 7): 2.21, (20, 8): 1.9}\n",
      "\n",
      "Dict_return_request : {(1, 1): 43, (1, 2): 34, (1, 3): 26, (2, 1): 73, (2, 2): 52, (2, 3): 72, (3, 1): 36, (3, 2): 64, (3, 3): 64, (4, 1): 37, (4, 2): 54, (4, 3): 68, (5, 1): 24, (5, 2): 79, (5, 3): 57, (6, 1): 39, (6, 2): 98, (6, 3): 93, (7, 1): 39, (7, 2): 77, (7, 3): 33, (8, 1): 75, (8, 2): 39, (8, 3): 41, (9, 1): 34, (9, 2): 44, (9, 3): 14, (10, 1): 33, (10, 2): 49, (10, 3): 41, (11, 1): 32, (11, 2): 50, (11, 3): 27, (12, 1): 49, (12, 2): 47, (12, 3): 79, (13, 1): 49, (13, 2): 61, (13, 3): 42, (14, 1): 35, (14, 2): 35, (14, 3): 28, (15, 1): 80, (15, 2): 29, (15, 3): 29, (16, 1): 73, (16, 2): 81, (16, 3): 60, (17, 1): 46, (17, 2): 73, (17, 3): 30, (18, 1): 26, (18, 2): 46, (18, 3): 93, (19, 1): 72, (19, 2): 35, (19, 3): 76, (20, 1): 41, (20, 2): 79, (20, 3): 98}\n"
     ]
    }
   ],
   "source": [
    "import pandas as pd\n",
    "\n",
    "f_cost = pd.read_excel(\"D:/Uni/4/OR-1/project/OR1_Project_Data_.xlsx\" ,sheet_name='f_cost')\n",
    "mf_cost = pd.read_excel(\"D:/Uni/4/OR-1/project/OR1_Project_Data_.xlsx\" ,sheet_name='mf_cost')\n",
    "cf_cost = pd.read_excel(\"D:/Uni/4/OR-1/project/OR1_Project_Data_.xlsx\" ,sheet_name='cf_cost')\n",
    "return_request = pd.read_excel(\"D:/Uni/4/OR-1/project/OR1_Project_Data_.xlsx\" ,sheet_name='return_request')\n",
    "\n",
    "# convert into dictionary\n",
    "Dict_f_cost = dict()\n",
    "Dict_mf_cost = dict()\n",
    "Dict_cf_cost = dict()\n",
    "Dict_return_request = dict()\n",
    "f_cost.set_index(\"a\", inplace=True)\n",
    "mf_cost.set_index(\"a\", inplace=True)\n",
    "cf_cost.set_index(\"a\", inplace=True)\n",
    "return_request.set_index(\"a\", inplace=True)\n",
    "for i in f_cost.index:\n",
    "    Dict_f_cost [i] = round(float(f_cost['b'][i]),1)\n",
    "\n",
    "for i in mf_cost.index:\n",
    "    for j in mf_cost.columns:\n",
    "        Dict_mf_cost[j,i] = round(float(mf_cost[j][i]),2)\n",
    "        \n",
    "for i in cf_cost.index:\n",
    "    for j in cf_cost.columns:\n",
    "        Dict_cf_cost[i,j] = round(float(cf_cost[j][i]),2)\n",
    "\n",
    "for i in return_request.index:\n",
    "    for j in return_request.columns:\n",
    "        Dict_return_request[i,j] = round(float(return_request[j][i]) ) \n",
    "\n",
    "print ('Dict_f_cost:'  , Dict_f_cost )\n",
    "print()\n",
    "print ('Dict_mf_cost:' , Dict_mf_cost)\n",
    "print()\n",
    "print ('Dict_cf_cost:' , Dict_cf_cost)\n",
    "print()\n",
    "print ('Dict_return_request :' , Dict_return_request)"
   ]
  },
  {
   "cell_type": "markdown",
   "id": "aaecc8fb",
   "metadata": {},
   "source": [
    "## modeling"
   ]
  },
  {
   "cell_type": "code",
   "execution_count": 20,
   "id": "21df39d8",
   "metadata": {},
   "outputs": [
    {
     "name": "stdout",
     "output_type": "stream",
     "text": [
      "Optimal\n"
     ]
    }
   ],
   "source": [
    "from pulp import *\n",
    "\n",
    "\n",
    "problem = LpProblem(\"minimize\", LpMinimize)\n",
    "\n",
    "x = LpVariable.dicts(\"x\",[ (i,j) for i in range(1,21) for j in range(1,9) ] ,\n",
    "                     cat='Binary',lowBound = 0)\n",
    "y = LpVariable.dicts(\"y\",[ (k,j) for k in range(1,4) for j in range(1,9) ] ,\n",
    "                     cat='Integer' ,lowBound = 0)\n",
    "w = LpVariable.dicts(\"w\",[ (k,j) for k in range(1,4) for j in range(1,9) ] ,\n",
    "                     cat='Integer' ,lowBound = 0)\n",
    "K = LpVariable.dicts(\"K\",[ j for j in range(1,9) ] ,\n",
    "                     cat='Binary' ,lowBound = 0)\n",
    "n = LpVariable.dicts(\"n\",[ j for j in range(1,9) ] ,\n",
    "                     cat='Integer' ,lowBound = 0)\n",
    "\n",
    "# objective func\n",
    "problem +=  lpSum(2*[(Dict_return_request[i,1] + Dict_return_request[i,2] + Dict_return_request[i,3]) \n",
    "                    * x[i,j] * Dict_cf_cost[i,j] for i in range(1,21) for j in range(1,9)]\n",
    "                    + [ (w[k,j]+y[k,j]) * Dict_mf_cost[k,j] for k in range(1,4) for j in range(1,9) ]\n",
    "                    + [ n[j] * Dict_f_cost[j] for j in range(1,9)]  ) \n",
    "\n",
    "\n",
    "# S.t\n",
    "\n",
    "#1\n",
    "problem += lpSum([ n[j] for j in range(1,9) ]) <= 269\n",
    "\n",
    "for j in range(1,9):\n",
    "#2\n",
    "    problem +=  n[j] <= 130\n",
    "#3\n",
    "    problem += lpSum([(Dict_return_request[i,1] + Dict_return_request[i,2]\n",
    "                       + Dict_return_request[i,3])*x[i,j] \n",
    "                      for i in range(1,21)]) <= 5 * lpSum( [y[k,j] for k in range(1,4)])\n",
    "#4\n",
    "    problem += lpSum([(Dict_return_request[i,1] + Dict_return_request[i,2]\n",
    "                       + Dict_return_request[i,3])*x[i,j] \n",
    "                      for i in range(1,21)]) <= 3.3333 * lpSum( [w[k,j] for k in range(1,4)])\n",
    "#5\n",
    "    problem += lpSum([(8*Dict_return_request[i,1] + 10*Dict_return_request[i,2] \n",
    "                      + 12*Dict_return_request[i,3])*x[i,j] \n",
    "                     for i in range(1,21)]) <= 117.5 * n[j]  \n",
    "#6\n",
    "    problem += n[j] <= lpSum( 130 * [ x[i,j] for i in range(1,21)]) \n",
    "\n",
    "    \n",
    "#8\n",
    "    problem += lpSum([ (y[k,j] + w[k,j]) for k in range(1,4)]) == lpSum([\n",
    "            ( Dict_return_request[i,1] + Dict_return_request[i,2]\n",
    "            + Dict_return_request[i,3])*x[i,j] for i in range(1,21)] )\n",
    "#9\n",
    "    problem += n[j] <= 130 * K[j]\n",
    "    problem += n[j] >= K[j]    \n",
    "\n",
    "#7\n",
    "for i in range(1,21):\n",
    "    problem += lpSum([ x[i,j] for j in range(1,9) ]) == 1\n",
    "    \n",
    "\n",
    "\n",
    "problem.solve()\n"
   ]
  },
  {
   "cell_type": "markdown",
   "id": "c8e0f677",
   "metadata": {},
   "source": [
    "## result"
   ]
  },
  {
   "cell_type": "code",
   "execution_count": 25,
   "id": "62714887",
   "metadata": {},
   "outputs": [
    {
     "name": "stdout",
     "output_type": "stream",
     "text": [
      "objective function value: 181456.34\n",
      "K_2 = 1.0\n",
      "K_4 = 1.0\n",
      "K_8 = 1.0\n",
      "n_2 = 30.0\n",
      "n_4 = 109.0\n",
      "n_8 = 130.0\n",
      "w_(1,_2) = 110.0\n",
      "w_(1,_4) = 378.0\n",
      "w_(3,_8) = 1208.0\n",
      "x_(1,_2) = 1.0\n",
      "x_(10,_2) = 1.0\n",
      "x_(11,_8) = 1.0\n",
      "x_(12,_4) = 1.0\n",
      "x_(13,_8) = 1.0\n",
      "x_(14,_4) = 1.0\n",
      "x_(15,_2) = 1.0\n",
      "x_(16,_8) = 1.0\n",
      "x_(17,_8) = 1.0\n",
      "x_(18,_4) = 1.0\n",
      "x_(19,_8) = 1.0\n",
      "x_(2,_4) = 1.0\n",
      "x_(20,_8) = 1.0\n",
      "x_(3,_8) = 1.0\n",
      "x_(4,_4) = 1.0\n",
      "x_(5,_4) = 1.0\n",
      "x_(6,_8) = 1.0\n",
      "x_(7,_4) = 1.0\n",
      "x_(8,_4) = 1.0\n",
      "x_(9,_8) = 1.0\n",
      "y_(1,_2) = 254.0\n",
      "y_(1,_4) = 880.0\n",
      "y_(3,_8) = 303.0\n"
     ]
    }
   ],
   "source": [
    "print('objective function value:' ,problem.objective.value())\n",
    "for v in problem.variables():\n",
    "    if v.varValue>0:\n",
    "        print(v.name, \"=\", v.varValue)"
   ]
  }
 ],
 "metadata": {
  "kernelspec": {
   "display_name": "Python 3 (ipykernel)",
   "language": "python",
   "name": "python3"
  },
  "language_info": {
   "codemirror_mode": {
    "name": "ipython",
    "version": 3
   },
   "file_extension": ".py",
   "mimetype": "text/x-python",
   "name": "python",
   "nbconvert_exporter": "python",
   "pygments_lexer": "ipython3",
   "version": "3.9.12"
  }
 },
 "nbformat": 4,
 "nbformat_minor": 5
}
